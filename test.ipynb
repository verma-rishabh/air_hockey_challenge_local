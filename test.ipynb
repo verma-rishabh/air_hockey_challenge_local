{
 "cells": [
  {
   "cell_type": "code",
   "execution_count": 3,
   "metadata": {},
   "outputs": [
    {
     "name": "stderr",
     "output_type": "stream",
     "text": [
      "pybullet build time: May 20 2022 19:44:17\n"
     ]
    }
   ],
   "source": [
    "from air_hockey_challenge.framework.air_hockey_challenge_wrapper import AirHockeyChallengeWrapper\n",
    "\n",
    "from air_hockey_challenge.environments.iiwas.env_hitting import AirHockeyHit\n",
    "from air_hockey_agent.agent_builder_ddpg_hit import build_agent\n",
    "import numpy as np"
   ]
  },
  {
   "cell_type": "code",
   "execution_count": 4,
   "metadata": {},
   "outputs": [],
   "source": [
    "env = AirHockeyChallengeWrapper(env=\"7dof-hit\", interpolation_order=3, debug=False)\n",
    "# policy = build_agent(env.env_info)\n",
    "policy = build_agent(env.env_info) "
   ]
  },
  {
   "cell_type": "code",
   "execution_count": 152,
   "metadata": {},
   "outputs": [
    {
     "data": {
      "text/plain": [
       "{'table': {'length': 1.948, 'width': 1.038, 'goal_width': 0.25},\n",
       " 'puck': {'radius': 0.03165},\n",
       " 'mallet': {'radius': 0.04815},\n",
       " 'n_agents': 2,\n",
       " 'robot': {'n_joints': 7,\n",
       "  'ee_desired_height': 0.1645,\n",
       "  'joint_vel_limit': array([[-1.48352986, -1.48352986, -1.74532925, -1.30899694, -2.26892803,\n",
       "          -2.35619449, -2.35619449],\n",
       "         [ 1.48352986,  1.48352986,  1.74532925,  1.30899694,  2.26892803,\n",
       "           2.35619449,  2.35619449]]),\n",
       "  'joint_acc_limit': array([[-14.83529864, -14.83529864, -17.45329252, -13.08996939,\n",
       "          -22.68928028, -23.5619449 , -23.5619449 ],\n",
       "         [ 14.83529864,  14.83529864,  17.45329252,  13.08996939,\n",
       "           22.68928028,  23.5619449 ,  23.5619449 ]]),\n",
       "  'base_frame': [array([[ 1.  ,  0.  ,  0.  , -1.51],\n",
       "          [ 0.  ,  1.  ,  0.  ,  0.  ],\n",
       "          [ 0.  ,  0.  ,  1.  , -0.1 ],\n",
       "          [ 0.  ,  0.  ,  0.  ,  1.  ]]),\n",
       "   array([[-1.  ,  0.  ,  0.  ,  1.51],\n",
       "          [ 0.  , -1.  ,  0.  ,  0.  ],\n",
       "          [ 0.  ,  0.  ,  1.  , -0.1 ],\n",
       "          [ 0.  ,  0.  ,  0.  ,  1.  ]])],\n",
       "  'universal_height': 0.0645,\n",
       "  'control_frequency': 50,\n",
       "  'joint_pos_limit': array([[-2.96706, -2.0944 , -2.96706, -2.0944 , -2.96706, -2.0944 ,\n",
       "          -3.05433],\n",
       "         [ 2.96706,  2.0944 ,  2.96706,  2.0944 ,  2.96706,  2.0944 ,\n",
       "           3.05433]]),\n",
       "  'robot_model': <mujoco._structs.MjModel at 0x7f23dc062bf0>,\n",
       "  'robot_data': <mujoco._structs.MjData at 0x7f23dc062fb0>},\n",
       " 'puck_pos_ids': [0, 1, 2],\n",
       " 'puck_vel_ids': [3, 4, 5],\n",
       " 'joint_pos_ids': [6, 7, 8, 9, 10, 11, 12],\n",
       " 'joint_vel_ids': [13, 14, 15, 16, 17, 18, 19],\n",
       " 'opponent_ee_ids': [20, 21, 22],\n",
       " 'dt': 0.02,\n",
       " 'rl_info': <mushroom_rl.core.environment.MDPInfo at 0x7f2508d30040>,\n",
       " 'constraints': <air_hockey_challenge.constraints.constraints.ConstraintList at 0x7f238801d940>,\n",
       " 'env_name': '7dof-hit'}"
      ]
     },
     "execution_count": 152,
     "metadata": {},
     "output_type": "execute_result"
    }
   ],
   "source": [
    "env.env_info"
   ]
  },
  {
   "cell_type": "code",
   "execution_count": 153,
   "metadata": {},
   "outputs": [],
   "source": [
    "state, done = env.reset(), False\n",
    "env.render()\n"
   ]
  },
  {
   "cell_type": "code",
   "execution_count": 12,
   "metadata": {},
   "outputs": [
    {
     "data": {
      "text/plain": [
       "(array([-8.59999995e-01, -1.01327613e-38,  6.45000438e-02]),\n",
       " array([0., 0., 0., 0., 0., 0.]))"
      ]
     },
     "execution_count": 12,
     "metadata": {},
     "output_type": "execute_result"
    }
   ],
   "source": []
  },
  {
   "cell_type": "code",
   "execution_count": 11,
   "metadata": {},
   "outputs": [
    {
     "data": {
      "text/plain": [
       "(array([ 6.50000005e-01, -1.01327613e-38,  1.64500044e-01]),\n",
       " array([[-8.66025402e-01,  4.11422813e-21,  5.00000004e-01],\n",
       "        [ 4.75070145e-21,  1.00000000e+00,  0.00000000e+00],\n",
       "        [-5.00000004e-01,  2.37535074e-21, -8.66025402e-01]]))"
      ]
     },
     "execution_count": 11,
     "metadata": {},
     "output_type": "execute_result"
    }
   ],
   "source": []
  },
  {
   "cell_type": "code",
   "execution_count": 4,
   "metadata": {},
   "outputs": [],
   "source": [
    "action = policy.draw_action(np.array(state))\n",
    "\n",
    "# Perform action\n",
    "next_state, reward, done, _ = env.step(action)\n",
    "env.render()"
   ]
  },
  {
   "cell_type": "code",
   "execution_count": 18,
   "metadata": {},
   "outputs": [
    {
     "data": {
      "text/plain": [
       "array([ 1.13110569e+00,  8.32590837e-02, -1.41485319e-02, -1.51341761e-01,\n",
       "        7.72987041e-02, -7.04742137e-01, -8.16273550e-02, -2.06166116e-01,\n",
       "        9.22085055e-02, -1.84425972e+00, -3.11343387e-02,  9.60521349e-01,\n",
       "        5.59075385e-03, -2.14193421e+01, -3.23700016e-01,  1.66812944e+01,\n",
       "       -2.10917481e-02,  1.07516038e+01, -1.69284319e-01, -3.49824744e+00,\n",
       "        2.37373363e+00,  3.90604999e-03,  1.64211777e-01])"
      ]
     },
     "execution_count": 18,
     "metadata": {},
     "output_type": "execute_result"
    }
   ],
   "source": [
    "next_state"
   ]
  },
  {
   "cell_type": "code",
   "execution_count": 6,
   "metadata": {},
   "outputs": [
    {
     "data": {
      "text/plain": [
       "(array([ 0.6570691 , -0.01602344,  0.17382842]),\n",
       " array([[-0.8559957 , -0.03371352,  0.51588251],\n",
       "        [-0.06303962,  0.99723179, -0.03943039],\n",
       "        [-0.5131251 , -0.06627328, -0.85575141]]))"
      ]
     },
     "execution_count": 6,
     "metadata": {},
     "output_type": "execute_result"
    }
   ],
   "source": [
    "policy.get_ee_pose(next_state)"
   ]
  },
  {
   "cell_type": "code",
   "execution_count": 3,
   "metadata": {},
   "outputs": [],
   "source": [
    "from air_hockey_challenge.utils.kinematics import inverse_kinematics\n",
    "import numpy as np\n"
   ]
  },
  {
   "cell_type": "code",
   "execution_count": 997,
   "metadata": {},
   "outputs": [],
   "source": [
    "des_pos = np.array([0.6,0.5,0.181])\n",
    "state = next_state\n",
    "action = np.zeros((2,7))\n",
    "_,x = inverse_kinematics(policy.robot_model, policy.robot_data,des_pos)\n",
    "des_v = np.array([0,1,0,0,0,0])\n",
    "from air_hockey_challenge.utils.kinematics import jacobian\n",
    "z = jacobian(policy.robot_model, policy.robot_data,policy.get_joint_pos(state))\n",
    "z_=np.linalg.pinv(z)\n",
    "v_ = des_v@z_.T\n",
    "action = np.array([x,v_])\n",
    "next_state, reward, done, _ = env.step(action)\n",
    "env.render()\n",
    "state = next_state\n"
   ]
  },
  {
   "cell_type": "code",
   "execution_count": 741,
   "metadata": {},
   "outputs": [
    {
     "data": {
      "text/plain": [
       "(6, 7)"
      ]
     },
     "execution_count": 741,
     "metadata": {},
     "output_type": "execute_result"
    }
   ],
   "source": [
    "z_.T.shape"
   ]
  },
  {
   "cell_type": "code",
   "execution_count": 5,
   "metadata": {},
   "outputs": [
    {
     "data": {
      "text/plain": [
       "array([-1.32562380e-17, -3.35883047e-02, -1.24463119e-17, -1.76999920e+00,\n",
       "       -1.03464779e-17,  7.61726915e-01,  4.75070145e-21])"
      ]
     },
     "execution_count": 5,
     "metadata": {},
     "output_type": "execute_result"
    }
   ],
   "source": [
    "x"
   ]
  },
  {
   "cell_type": "code",
   "execution_count": 6,
   "metadata": {},
   "outputs": [
    {
     "data": {
      "text/plain": [
       "True"
      ]
     },
     "execution_count": 6,
     "metadata": {},
     "output_type": "execute_result"
    }
   ],
   "source": [
    "_"
   ]
  },
  {
   "cell_type": "code",
   "execution_count": 11,
   "metadata": {},
   "outputs": [],
   "source": [
    "action = np.zeros((2,7))\n",
    "action[0,:] = x[1]\n",
    "action[1,:] = 0.1"
   ]
  },
  {
   "cell_type": "code",
   "execution_count": 12,
   "metadata": {},
   "outputs": [
    {
     "ename": "AttributeError",
     "evalue": "'NoneType' object has no attribute 'copy'",
     "output_type": "error",
     "traceback": [
      "\u001b[0;31m---------------------------------------------------------------------------\u001b[0m",
      "\u001b[0;31mAttributeError\u001b[0m                            Traceback (most recent call last)",
      "Cell \u001b[0;32mIn[12], line 1\u001b[0m\n\u001b[0;32m----> 1\u001b[0m next_state, reward, done, _ \u001b[39m=\u001b[39m env\u001b[39m.\u001b[39;49mstep(action)\n\u001b[1;32m      2\u001b[0m env\u001b[39m.\u001b[39mrender()\n",
      "File \u001b[0;32m~/SS23/DeepLearning Lab/Project/air_hockey_challenge_local/air_hockey_challenge/framework/air_hockey_challenge_wrapper.py:58\u001b[0m, in \u001b[0;36mAirHockeyChallengeWrapper.step\u001b[0;34m(self, action)\u001b[0m\n\u001b[1;32m     57\u001b[0m \u001b[39mdef\u001b[39;00m \u001b[39mstep\u001b[39m(\u001b[39mself\u001b[39m, action):\n\u001b[0;32m---> 58\u001b[0m     obs, reward, done, info \u001b[39m=\u001b[39m \u001b[39mself\u001b[39;49m\u001b[39m.\u001b[39;49mbase_env\u001b[39m.\u001b[39;49mstep(action)\n\u001b[1;32m     60\u001b[0m     \u001b[39mif\u001b[39;00m \u001b[39m\"\u001b[39m\u001b[39mtournament\u001b[39m\u001b[39m\"\u001b[39m \u001b[39min\u001b[39;00m \u001b[39mself\u001b[39m\u001b[39m.\u001b[39menv_name:\n\u001b[1;32m     61\u001b[0m         info[\u001b[39m\"\u001b[39m\u001b[39mconstraints_value\u001b[39m\u001b[39m\"\u001b[39m] \u001b[39m=\u001b[39m \u001b[39mlist\u001b[39m()\n",
      "File \u001b[0;32m~/anaconda3/envs/challenge/lib/python3.8/site-packages/mushroom_rl/environments/mujoco.py:140\u001b[0m, in \u001b[0;36mMuJoCo.step\u001b[0;34m(self, action)\u001b[0m\n\u001b[1;32m    139\u001b[0m \u001b[39mdef\u001b[39;00m \u001b[39mstep\u001b[39m(\u001b[39mself\u001b[39m, action):\n\u001b[0;32m--> 140\u001b[0m     cur_obs \u001b[39m=\u001b[39m \u001b[39mself\u001b[39;49m\u001b[39m.\u001b[39;49m_obs\u001b[39m.\u001b[39;49mcopy()\n\u001b[1;32m    142\u001b[0m     action \u001b[39m=\u001b[39m \u001b[39mself\u001b[39m\u001b[39m.\u001b[39m_preprocess_action(action)\n\u001b[1;32m    144\u001b[0m     \u001b[39mself\u001b[39m\u001b[39m.\u001b[39m_step_init(cur_obs, action)\n",
      "\u001b[0;31mAttributeError\u001b[0m: 'NoneType' object has no attribute 'copy'"
     ]
    }
   ],
   "source": [
    "next_state, reward, done, _ = env.step(action)\n",
    "env.render()"
   ]
  },
  {
   "cell_type": "code",
   "execution_count": 16,
   "metadata": {},
   "outputs": [
    {
     "data": {
      "text/plain": [
       "(array([0.64010856, 0.01666328, 0.1527822 ]),\n",
       " array([[-0.86484366, -0.11688435,  0.48824532],\n",
       "        [-0.12211214,  0.9922888 ,  0.02124982],\n",
       "        [-0.48696414, -0.04124291, -0.87244768]]))"
      ]
     },
     "execution_count": 16,
     "metadata": {},
     "output_type": "execute_result"
    }
   ],
   "source": [
    "policy.get_ee_pose(next_state)"
   ]
  },
  {
   "cell_type": "code",
   "execution_count": null,
   "metadata": {},
   "outputs": [],
   "source": [
    "env.env_info"
   ]
  },
  {
   "cell_type": "code",
   "execution_count": 162,
   "metadata": {},
   "outputs": [
    {
     "data": {
      "text/plain": [
       "0.1645"
      ]
     },
     "execution_count": 162,
     "metadata": {},
     "output_type": "execute_result"
    }
   ],
   "source": [
    "env.env_info['robot']['ee_desired_height']"
   ]
  },
  {
   "cell_type": "code",
   "execution_count": 161,
   "metadata": {},
   "outputs": [
    {
     "data": {
      "text/plain": [
       "(23,)"
      ]
     },
     "execution_count": 161,
     "metadata": {},
     "output_type": "execute_result"
    }
   ],
   "source": [
    "env._mdp_info.observation_space.shape\n",
    "# env.env_info['rl_info'].action_space.low"
   ]
  },
  {
   "cell_type": "code",
   "execution_count": 157,
   "metadata": {},
   "outputs": [
    {
     "data": {
      "text/plain": [
       "(23,)"
      ]
     },
     "execution_count": 157,
     "metadata": {},
     "output_type": "execute_result"
    }
   ],
   "source": [
    "env.base_env.env_info[\"rl_info\"].observation_space.low.shape"
   ]
  },
  {
   "cell_type": "code",
   "execution_count": 153,
   "metadata": {},
   "outputs": [],
   "source": [
    "import numpy as np\n",
    "pos_max = env.env_info['robot']['joint_pos_limit'][1]\n",
    "vel_max = env.env_info['robot']['joint_vel_limit'][1] \n",
    "max_ = np.stack([pos_max,vel_max])\n",
    "max_action  =   max_.reshape(14,)"
   ]
  },
  {
   "cell_type": "code",
   "execution_count": 154,
   "metadata": {},
   "outputs": [
    {
     "data": {
      "text/plain": [
       "array([2.96706   , 2.0944    , 2.96706   , 2.0944    , 2.96706   ,\n",
       "       2.0944    , 3.05433   , 1.48352986, 1.48352986, 1.74532925,\n",
       "       1.30899694, 2.26892803, 2.35619449, 2.35619449])"
      ]
     },
     "execution_count": 154,
     "metadata": {},
     "output_type": "execute_result"
    }
   ],
   "source": [
    "max_action"
   ]
  },
  {
   "cell_type": "code",
   "execution_count": 19,
   "metadata": {},
   "outputs": [
    {
     "name": "stdout",
     "output_type": "stream",
     "text": [
      "[[ 1.    0.    0.   -1.51]\n",
      " [ 0.    1.    0.    0.  ]\n",
      " [ 0.    0.    1.   -0.1 ]\n",
      " [ 0.    0.    0.    1.  ]]\n"
     ]
    },
    {
     "ename": "TypeError",
     "evalue": "object of type 'float' has no len()",
     "output_type": "error",
     "traceback": [
      "\u001b[0;31m---------------------------------------------------------------------------\u001b[0m",
      "\u001b[0;31mTypeError\u001b[0m                                 Traceback (most recent call last)",
      "Cell \u001b[0;32mIn[19], line 3\u001b[0m\n\u001b[1;32m      1\u001b[0m \u001b[39mfrom\u001b[39;00m \u001b[39mair_hockey_challenge\u001b[39;00m\u001b[39m.\u001b[39;00m\u001b[39mutils\u001b[39;00m\u001b[39m.\u001b[39;00m\u001b[39mtransformations\u001b[39;00m \u001b[39mimport\u001b[39;00m world_to_robot\n\u001b[1;32m      2\u001b[0m \u001b[39mprint\u001b[39m(env\u001b[39m.\u001b[39menv_info[\u001b[39m'\u001b[39m\u001b[39mrobot\u001b[39m\u001b[39m'\u001b[39m][\u001b[39m'\u001b[39m\u001b[39mbase_frame\u001b[39m\u001b[39m'\u001b[39m][\u001b[39m0\u001b[39m])\n\u001b[0;32m----> 3\u001b[0m x \u001b[39m=\u001b[39m world_to_robot(env\u001b[39m.\u001b[39;49menv_info[\u001b[39m'\u001b[39;49m\u001b[39mrobot\u001b[39;49m\u001b[39m'\u001b[39;49m][\u001b[39m'\u001b[39;49m\u001b[39mbase_frame\u001b[39;49m\u001b[39m'\u001b[39;49m][\u001b[39m0\u001b[39;49m],env\u001b[39m.\u001b[39;49menv_info[\u001b[39m'\u001b[39;49m\u001b[39mtable\u001b[39;49m\u001b[39m'\u001b[39;49m][\u001b[39m'\u001b[39;49m\u001b[39mlength\u001b[39;49m\u001b[39m'\u001b[39;49m])\n",
      "File \u001b[0;32m~/SS23/DeepLearning Lab/Project/air_hockey_challenge_local/air_hockey_challenge/utils/transformations.py:59\u001b[0m, in \u001b[0;36mworld_to_robot\u001b[0;34m(base_frame, translation, rotation)\u001b[0m\n\u001b[1;32m     37\u001b[0m \u001b[39m\u001b[39m\u001b[39m\"\"\"\u001b[39;00m\n\u001b[1;32m     38\u001b[0m \u001b[39mTransfrom position and rotation (optional) from the world frame to the robot's base frame\u001b[39;00m\n\u001b[1;32m     39\u001b[0m \n\u001b[0;32m   (...)\u001b[0m\n\u001b[1;32m     55\u001b[0m \n\u001b[1;32m     56\u001b[0m \u001b[39m\"\"\"\u001b[39;00m\n\u001b[1;32m     58\u001b[0m target \u001b[39m=\u001b[39m np\u001b[39m.\u001b[39meye(\u001b[39m4\u001b[39m)\n\u001b[0;32m---> 59\u001b[0m target[:\u001b[39mlen\u001b[39;49m(translation), \u001b[39m3\u001b[39m] \u001b[39m=\u001b[39m translation\n\u001b[1;32m     60\u001b[0m \u001b[39mif\u001b[39;00m rotation \u001b[39mis\u001b[39;00m \u001b[39mnot\u001b[39;00m \u001b[39mNone\u001b[39;00m:\n\u001b[1;32m     61\u001b[0m     target[:\u001b[39m3\u001b[39m, :\u001b[39m3\u001b[39m] \u001b[39m=\u001b[39m rotation\n",
      "\u001b[0;31mTypeError\u001b[0m: object of type 'float' has no len()"
     ]
    }
   ],
   "source": [
    "from air_hockey_challenge.utils.transformations import world_to_robot\n",
    "print(env.env_info['robot']['base_frame'][0])\n",
    "x = world_to_robot(env.env_info['robot']['base_frame'][0],env.env_info['table']['length'])"
   ]
  },
  {
   "cell_type": "code",
   "execution_count": 199,
   "metadata": {},
   "outputs": [
    {
     "name": "stdout",
     "output_type": "stream",
     "text": [
      "tensor([[2.0921, 5.6445, 0.0062, 4.3529, 1.1709],\n",
      "        [5.9289, 2.4195, 4.5575, 0.4351, 1.1163],\n",
      "        [3.7259, 0.4411, 2.3772, 3.0531, 3.1126]], grad_fn=<MseLossBackward0>)\n"
     ]
    }
   ],
   "source": [
    "import torch\n",
    "loss = torch.nn.MSELoss(reduction='none')\n",
    "input = torch.randn(3, 5, requires_grad=True)\n",
    "target = torch.randn(3, 5,requires_grad=True)\n",
    "output = loss(input, target)\n",
    "# print(output.detach().numpy())\n",
    "print(output)"
   ]
  },
  {
   "cell_type": "code",
   "execution_count": 207,
   "metadata": {},
   "outputs": [
    {
     "ename": "RuntimeError",
     "evalue": "Trying to backward through the graph a second time (or directly access saved tensors after they have already been freed). Saved intermediate values of the graph are freed when you call .backward() or autograd.grad(). Specify retain_graph=True if you need to backward through the graph a second time or if you need to access saved tensors after calling backward.",
     "output_type": "error",
     "traceback": [
      "\u001b[0;31m---------------------------------------------------------------------------\u001b[0m",
      "\u001b[0;31mRuntimeError\u001b[0m                              Traceback (most recent call last)",
      "Cell \u001b[0;32mIn[207], line 1\u001b[0m\n\u001b[0;32m----> 1\u001b[0m output\u001b[39m.\u001b[39;49mbackward(torch\u001b[39m.\u001b[39;49mones_like(\u001b[39minput\u001b[39;49m)\u001b[39m*\u001b[39;49m\u001b[39m1.0\u001b[39;49m,retain_graph\u001b[39m=\u001b[39;49m\u001b[39mTrue\u001b[39;49;00m)\n\u001b[1;32m      2\u001b[0m \u001b[39mprint\u001b[39m(output\u001b[39m.\u001b[39mgrad\u001b[39m.\u001b[39mdata)\n\u001b[1;32m      3\u001b[0m \u001b[39m# output.grad.data.zero_()\u001b[39;00m\n",
      "File \u001b[0;32m~/anaconda3/envs/challenge/lib/python3.8/site-packages/torch/_tensor.py:487\u001b[0m, in \u001b[0;36mTensor.backward\u001b[0;34m(self, gradient, retain_graph, create_graph, inputs)\u001b[0m\n\u001b[1;32m    477\u001b[0m \u001b[39mif\u001b[39;00m has_torch_function_unary(\u001b[39mself\u001b[39m):\n\u001b[1;32m    478\u001b[0m     \u001b[39mreturn\u001b[39;00m handle_torch_function(\n\u001b[1;32m    479\u001b[0m         Tensor\u001b[39m.\u001b[39mbackward,\n\u001b[1;32m    480\u001b[0m         (\u001b[39mself\u001b[39m,),\n\u001b[0;32m   (...)\u001b[0m\n\u001b[1;32m    485\u001b[0m         inputs\u001b[39m=\u001b[39minputs,\n\u001b[1;32m    486\u001b[0m     )\n\u001b[0;32m--> 487\u001b[0m torch\u001b[39m.\u001b[39;49mautograd\u001b[39m.\u001b[39;49mbackward(\n\u001b[1;32m    488\u001b[0m     \u001b[39mself\u001b[39;49m, gradient, retain_graph, create_graph, inputs\u001b[39m=\u001b[39;49minputs\n\u001b[1;32m    489\u001b[0m )\n",
      "File \u001b[0;32m~/anaconda3/envs/challenge/lib/python3.8/site-packages/torch/autograd/__init__.py:200\u001b[0m, in \u001b[0;36mbackward\u001b[0;34m(tensors, grad_tensors, retain_graph, create_graph, grad_variables, inputs)\u001b[0m\n\u001b[1;32m    195\u001b[0m     retain_graph \u001b[39m=\u001b[39m create_graph\n\u001b[1;32m    197\u001b[0m \u001b[39m# The reason we repeat same the comment below is that\u001b[39;00m\n\u001b[1;32m    198\u001b[0m \u001b[39m# some Python versions print out the first line of a multi-line function\u001b[39;00m\n\u001b[1;32m    199\u001b[0m \u001b[39m# calls in the traceback and some print out the last line\u001b[39;00m\n\u001b[0;32m--> 200\u001b[0m Variable\u001b[39m.\u001b[39;49m_execution_engine\u001b[39m.\u001b[39;49mrun_backward(  \u001b[39m# Calls into the C++ engine to run the backward pass\u001b[39;49;00m\n\u001b[1;32m    201\u001b[0m     tensors, grad_tensors_, retain_graph, create_graph, inputs,\n\u001b[1;32m    202\u001b[0m     allow_unreachable\u001b[39m=\u001b[39;49m\u001b[39mTrue\u001b[39;49;00m, accumulate_grad\u001b[39m=\u001b[39;49m\u001b[39mTrue\u001b[39;49;00m)\n",
      "\u001b[0;31mRuntimeError\u001b[0m: Trying to backward through the graph a second time (or directly access saved tensors after they have already been freed). Saved intermediate values of the graph are freed when you call .backward() or autograd.grad(). Specify retain_graph=True if you need to backward through the graph a second time or if you need to access saved tensors after calling backward."
     ]
    }
   ],
   "source": [
    "output.backward(torch.ones_like(input)*1.0,retain_graph=True)\n",
    "print(output.grad.data)\n",
    "# output.grad.data.zero_()"
   ]
  },
  {
   "cell_type": "code",
   "execution_count": 202,
   "metadata": {},
   "outputs": [
    {
     "name": "stdout",
     "output_type": "stream",
     "text": [
      "tensor([[2.0921, 5.6445, 0.0062, 4.3529, 1.1709],\n",
      "        [5.9289, 2.4195, 4.5575, 0.4351, 1.1163],\n",
      "        [3.7259, 0.4411, 2.3772, 3.0531, 3.1126]], grad_fn=<MseLossBackward0>)\n"
     ]
    }
   ],
   "source": [
    "print(output)"
   ]
  },
  {
   "cell_type": "code",
   "execution_count": 177,
   "metadata": {},
   "outputs": [
    {
     "name": "stdout",
     "output_type": "stream",
     "text": [
      "[ 6.50000005e-01 -1.01327613e-38  1.64500044e-01]\n",
      "0.1645\n"
     ]
    }
   ],
   "source": [
    "ee_pos = policy.get_ee_pose(state)[0] \n",
    "print(ee_pos)\n",
    "des_z = env.env_info['robot']['ee_desired_height']\n",
    "print(des_z)"
   ]
  },
  {
   "cell_type": "code",
   "execution_count": 6,
   "metadata": {},
   "outputs": [],
   "source": [
    "from air_hockey_challenge.utils.kinematics import jacobian\n",
    "z = jacobian(policy.robot_model, policy.robot_data,policy.get_joint_pos(next_state))"
   ]
  },
  {
   "cell_type": "code",
   "execution_count": 7,
   "metadata": {},
   "outputs": [
    {
     "data": {
      "text/plain": [
       "array([[-3.63307339e-02,  5.45445223e-01, -1.70351825e-02,\n",
       "        -1.25884375e-01, -2.57123021e-02,  9.23221873e-02],\n",
       "       [ 2.47507481e+00,  3.98607227e-03, -1.66459595e-01,\n",
       "         1.33672356e-03,  1.35556023e+00,  7.98592369e-03],\n",
       "       [ 2.07793699e-01,  2.15138731e+00, -4.42137168e-02,\n",
       "        -1.37850011e+00,  1.02719018e-01, -9.65168396e-01],\n",
       "       [ 1.93804388e+00,  4.01639166e-02,  2.37516167e+00,\n",
       "        -2.70968806e-02,  1.92131249e+00, -1.03792897e-02],\n",
       "       [-3.01003306e-01, -1.20850806e+00,  5.27324335e-03,\n",
       "         1.67800605e+00, -1.75952527e-01,  9.57551849e-01],\n",
       "       [-5.33100740e-01, -1.31061225e-02,  2.54146748e+00,\n",
       "         4.76265578e-03,  1.56793961e+00,  6.87380612e-03],\n",
       "       [ 2.55907575e-01,  3.18908998e+00, -7.51364255e-03,\n",
       "        -1.85314205e+00,  1.49606133e-01, -2.23660581e+00]])"
      ]
     },
     "execution_count": 7,
     "metadata": {},
     "output_type": "execute_result"
    }
   ],
   "source": [
    "import numpy as np\n",
    "z_=np.linalg.pinv(z)\n",
    "z_"
   ]
  },
  {
   "cell_type": "code",
   "execution_count": 15,
   "metadata": {},
   "outputs": [],
   "source": [
    "v = np.array([-1.0,1.0,0])"
   ]
  },
  {
   "cell_type": "code",
   "execution_count": 16,
   "metadata": {},
   "outputs": [
    {
     "name": "stdout",
     "output_type": "stream",
     "text": [
      "[ 0.58177596 -2.47108874  1.94359361 -1.89787997 -0.90750476  0.51999462\n",
      "  2.9331824 ]\n"
     ]
    }
   ],
   "source": [
    "t = z_[:,:3]@v[:3]\n",
    "print(t)"
   ]
  },
  {
   "cell_type": "code",
   "execution_count": 17,
   "metadata": {},
   "outputs": [
    {
     "data": {
      "text/plain": [
       "array([-1.00000000e+00,  1.00000000e+00,  1.11369247e-15])"
      ]
     },
     "execution_count": 17,
     "metadata": {},
     "output_type": "execute_result"
    }
   ],
   "source": [
    "t1=t@z.T\n",
    "t1[:3]"
   ]
  },
  {
   "cell_type": "code",
   "execution_count": 1013,
   "metadata": {},
   "outputs": [
    {
     "data": {
      "text/plain": [
       "array([-1.50704702,  3.85985968,  0.30996018,  6.07378655,  0.92995795,\n",
       "        2.01908885, -0.97533899])"
      ]
     },
     "execution_count": 1013,
     "metadata": {},
     "output_type": "execute_result"
    },
    {
     "ename": "",
     "evalue": "",
     "output_type": "error",
     "traceback": [
      "\u001b[1;31mThe Kernel crashed while executing code in the the current cell or a previous cell. Please review the code in the cell(s) to identify a possible cause of the failure. Click <a href='https://aka.ms/vscodeJupyterKernelCrash'>here</a> for more info. View Jupyter <a href='command:jupyter.viewOutput'>log</a> for further details."
     ]
    }
   ],
   "source": [
    "v@z_.T[:3,:]"
   ]
  },
  {
   "cell_type": "code",
   "execution_count": 1009,
   "metadata": {},
   "outputs": [
    {
     "data": {
      "text/plain": [
       "(7, 6)"
      ]
     },
     "execution_count": 1009,
     "metadata": {},
     "output_type": "execute_result"
    }
   ],
   "source": [
    "z_.shape"
   ]
  },
  {
   "cell_type": "code",
   "execution_count": 25,
   "metadata": {},
   "outputs": [
    {
     "data": {
      "text/plain": [
       "True"
      ]
     },
     "execution_count": 25,
     "metadata": {},
     "output_type": "execute_result"
    }
   ],
   "source": [
    "env.base_env.is_absorbing(next_state)"
   ]
  },
  {
   "cell_type": "code",
   "execution_count": 27,
   "metadata": {},
   "outputs": [
    {
     "data": {
      "text/plain": [
       "array([1.01246589, 0.05187413, 0.00126406])"
      ]
     },
     "execution_count": 27,
     "metadata": {},
     "output_type": "execute_result"
    }
   ],
   "source": [
    "policy.get_puck_pos(next_state)"
   ]
  },
  {
   "cell_type": "code",
   "execution_count": 33,
   "metadata": {},
   "outputs": [
    {
     "ename": "ValueError",
     "evalue": "not enough values to unpack (expected 3, got 2)",
     "output_type": "error",
     "traceback": [
      "\u001b[0;31m---------------------------------------------------------------------------\u001b[0m",
      "\u001b[0;31mValueError\u001b[0m                                Traceback (most recent call last)",
      "Cell \u001b[0;32mIn[33], line 1\u001b[0m\n\u001b[0;32m----> 1\u001b[0m x,y,_\u001b[39m=\u001b[39m env\u001b[39m.\u001b[39mbase_env\u001b[39m.\u001b[39mget_puck(next_state)\n",
      "\u001b[0;31mValueError\u001b[0m: not enough values to unpack (expected 3, got 2)"
     ]
    }
   ],
   "source": [
    "env.base_env.get_puck(next_state)"
   ]
  },
  {
   "cell_type": "code",
   "execution_count": 34,
   "metadata": {},
   "outputs": [
    {
     "data": {
      "text/plain": [
       "True"
      ]
     },
     "execution_count": 34,
     "metadata": {},
     "output_type": "execute_result"
    }
   ],
   "source": [
    "env.base_env.is_absorbing(next_state)"
   ]
  },
  {
   "cell_type": "code",
   "execution_count": 52,
   "metadata": {},
   "outputs": [
    {
     "data": {
      "text/plain": [
       "<bound method AirHockeyDouble.get_ee of <air_hockey_challenge.environments.position_control_wrapper.IiwaPositionHit object at 0x7f756178b6d0>>"
      ]
     },
     "execution_count": 52,
     "metadata": {},
     "output_type": "execute_result"
    }
   ],
   "source": [
    "env.base_env.get_ee"
   ]
  },
  {
   "cell_type": "code",
   "execution_count": 50,
   "metadata": {},
   "outputs": [
    {
     "data": {
      "text/plain": [
       "array([-0.8531791 ,  0.00825637,  0.07359727])"
      ]
     },
     "execution_count": 50,
     "metadata": {},
     "output_type": "execute_result"
    }
   ],
   "source": [
    "policy.get_ee_pose(next_state)[0]+[-1.51,0,-0.1]"
   ]
  },
  {
   "cell_type": "code",
   "execution_count": 51,
   "metadata": {},
   "outputs": [
    {
     "ename": "AttributeError",
     "evalue": "'IiwaPositionHit' object has no attribute 'vec_puck_goal'",
     "output_type": "error",
     "traceback": [
      "\u001b[0;31m---------------------------------------------------------------------------\u001b[0m",
      "\u001b[0;31mAttributeError\u001b[0m                            Traceback (most recent call last)",
      "Cell \u001b[0;32mIn[51], line 1\u001b[0m\n\u001b[0;32m----> 1\u001b[0m env\u001b[39m.\u001b[39;49mbase_env\u001b[39m.\u001b[39;49mvec_puck_goal\n",
      "\u001b[0;31mAttributeError\u001b[0m: 'IiwaPositionHit' object has no attribute 'vec_puck_goal'"
     ]
    }
   ],
   "source": [
    "env.base_env.vec_puck_goal"
   ]
  },
  {
   "cell_type": "code",
   "execution_count": 55,
   "metadata": {},
   "outputs": [
    {
     "data": {
      "text/plain": [
       "array([[-0.7    , -0.2    ],\n",
       "       [-0.39105,  0.39105]])"
      ]
     },
     "execution_count": 55,
     "metadata": {},
     "output_type": "execute_result"
    }
   ],
   "source": [
    "env.base_env.hit_range"
   ]
  },
  {
   "cell_type": "code",
   "execution_count": 58,
   "metadata": {},
   "outputs": [
    {
     "data": {
      "text/plain": [
       "<bound method MuJoCo._check_collision of <air_hockey_challenge.environments.position_control_wrapper.IiwaPositionHit object at 0x7f756178b6d0>>"
      ]
     },
     "execution_count": 58,
     "metadata": {},
     "output_type": "execute_result"
    }
   ],
   "source": [
    "env.base_env._check_collision(\"puck\", \"robot_1/ee\")"
   ]
  },
  {
   "cell_type": "code",
   "execution_count": 13,
   "metadata": {},
   "outputs": [
    {
     "data": {
      "text/plain": [
       "(array([-8.59999995e-01, -1.01327613e-38,  6.45000438e-02]),\n",
       " array([0., 0., 0., 0., 0., 0.]))"
      ]
     },
     "execution_count": 13,
     "metadata": {},
     "output_type": "execute_result"
    }
   ],
   "source": []
  },
  {
   "cell_type": "code",
   "execution_count": 63,
   "metadata": {},
   "outputs": [
    {
     "name": "stdout",
     "output_type": "stream",
     "text": [
      "base [ -3.18763656 -12.30253387  -3.49923488   4.59658214   4.80111548\n",
      "  -5.3540546 ]\n",
      "policy [  4.24343658   0.97181759   4.94453865   9.07481024 -12.54228924\n",
      "  -5.43096623]\n"
     ]
    }
   ],
   "source": [
    "from air_hockey_challenge.utils.kinematics import jacobian\n",
    "z = jacobian(policy.robot_model, policy.robot_data,policy.get_joint_pos(state))\n",
    "z.shape\n",
    "print(\"base\",env.base_env.get_ee()[1])\n",
    "print(\"policy\",z@policy.get_joint_vel(state))\n",
    "action = policy.draw_action(state)\n",
    "next_state, reward, done, _ = env.step(action)\n",
    "state = next_state\n",
    "env.render()"
   ]
  },
  {
   "cell_type": "code",
   "execution_count": 75,
   "metadata": {},
   "outputs": [
    {
     "data": {
      "text/plain": [
       "array([ -4.79115084,   3.58595677,  -3.45307492,   0.57149093,\n",
       "        48.54068038,  -4.37862166, -19.12015376])"
      ]
     },
     "execution_count": 75,
     "metadata": {},
     "output_type": "execute_result"
    }
   ],
   "source": [
    "p_v = policy.get_joint_vel(state)\n",
    "p_v"
   ]
  },
  {
   "cell_type": "code",
   "execution_count": 67,
   "metadata": {},
   "outputs": [
    {
     "data": {
      "text/plain": [
       "array([ 12.09555614, -14.46712135,  -6.3617671 ,   7.5953989 ,\n",
       "        12.7706603 ,   0.52782378])"
      ]
     },
     "execution_count": 67,
     "metadata": {},
     "output_type": "execute_result"
    }
   ],
   "source": [
    "env.base_env.get_ee()[1]\n"
   ]
  },
  {
   "cell_type": "code",
   "execution_count": 69,
   "metadata": {},
   "outputs": [
    {
     "data": {
      "text/plain": [
       "(6, 7)"
      ]
     },
     "execution_count": 69,
     "metadata": {},
     "output_type": "execute_result"
    }
   ],
   "source": [
    "z = jacobian(policy.robot_model, policy.robot_data,policy.get_joint_pos(state))\n",
    "z.shape"
   ]
  },
  {
   "cell_type": "code",
   "execution_count": 76,
   "metadata": {},
   "outputs": [
    {
     "data": {
      "text/plain": [
       "array([  5.08926831,   4.32714412,  11.44067089,  23.38231892,\n",
       "       -20.22833642,   0.23113681])"
      ]
     },
     "execution_count": 76,
     "metadata": {},
     "output_type": "execute_result"
    }
   ],
   "source": [
    "p_v_ = z@p_v\n",
    "p_v_"
   ]
  },
  {
   "cell_type": "code",
   "execution_count": 72,
   "metadata": {},
   "outputs": [
    {
     "data": {
      "text/plain": [
       "(array([-0.59388281, -0.22604411,  0.43446564]),\n",
       " array([ 12.09555614, -14.46712135,  -6.3617671 ,   7.5953989 ,\n",
       "         12.7706603 ,   0.52782378]))"
      ]
     },
     "execution_count": 72,
     "metadata": {},
     "output_type": "execute_result"
    }
   ],
   "source": [
    "\n",
    "env.base_env.get_ee()"
   ]
  },
  {
   "cell_type": "code",
   "execution_count": 1056,
   "metadata": {},
   "outputs": [
    {
     "name": "stdout",
     "output_type": "stream",
     "text": [
      "base [ 2.35882643  0.07925349  5.2474227  -0.497722   -3.95492933  1.77396032]\n",
      "policy [ 1.54583013 -0.84592212  0.71987076 -1.77999328 -0.6070855   3.67315489]\n"
     ]
    }
   ],
   "source": [
    "from air_hockey_challenge.utils.kinematics import inverse_kinematics, jacobian\n",
    "action = np.zeros((2,7))\n",
    "des_pos = np.array([0.78,-0.5,0.1645])\n",
    "_,x = inverse_kinematics(policy.robot_model, policy.robot_data,des_pos)\n",
    "action[0,:] = x\n",
    "des_v = np.array(([0,-5,0]))\n",
    "jac = jacobian(policy.robot_model, policy.robot_data,policy.get_joint_pos(state))\n",
    "inv_jac = np.linalg.pinv(jac)\n",
    "joint_vel = des_v@inv_jac.T[:3,:]\n",
    "action[1,:] = joint_vel\n",
    "next_state, reward, done, _ = env.step(action)\n",
    "state = next_state\n",
    "env.render()\n",
    "print(\"base\",env.base_env.get_ee()[1])\n",
    "print(\"policy\",(jac@policy.get_joint_vel(state))[:])\n"
   ]
  },
  {
   "cell_type": "code",
   "execution_count": 940,
   "metadata": {},
   "outputs": [
    {
     "data": {
      "text/plain": [
       "array([ 9.72749827e-01,  2.36097889e-01,  0.00000000e+00, -3.38691158e-01,\n",
       "       -4.79851110e-02,  4.22380038e-01,  4.02979867e-22, -1.96067345e-01,\n",
       "        2.56756848e-21, -1.84363898e+00, -1.86530826e-21,  9.70422238e-01,\n",
       "        4.75070145e-21,  0.00000000e+00,  0.00000000e+00,  0.00000000e+00,\n",
       "        0.00000000e+00,  0.00000000e+00,  0.00000000e+00,  0.00000000e+00,\n",
       "        2.37000000e+00,  1.01327613e-38,  1.64500044e-01])"
      ]
     },
     "execution_count": 940,
     "metadata": {},
     "output_type": "execute_result"
    }
   ],
   "source": [
    "env.reset()"
   ]
  },
  {
   "cell_type": "code",
   "execution_count": 1058,
   "metadata": {},
   "outputs": [
    {
     "data": {
      "text/plain": [
       "array([ 0.40207824, -0.50333883])"
      ]
     },
     "execution_count": 1058,
     "metadata": {},
     "output_type": "execute_result"
    },
    {
     "ename": "",
     "evalue": "",
     "output_type": "error",
     "traceback": [
      "\u001b[1;31mThe Kernel crashed while executing code in the the current cell or a previous cell. Please review the code in the cell(s) to identify a possible cause of the failure. Click <a href='https://aka.ms/vscodeJupyterKernelCrash'>here</a> for more info. View Jupyter <a href='command:jupyter.viewOutput'>log</a> for further details."
     ]
    }
   ],
   "source": [
    "policy.get_ee_pose(next_state)[0][:2]"
   ]
  },
  {
   "cell_type": "code",
   "execution_count": 6,
   "metadata": {},
   "outputs": [
    {
     "data": {
      "text/plain": [
       "array([[-0.7    , -0.2    ],\n",
       "       [-0.39105,  0.39105]])"
      ]
     },
     "execution_count": 6,
     "metadata": {},
     "output_type": "execute_result"
    }
   ],
   "source": [
    "env.base_env.hit_range"
   ]
  }
 ],
 "metadata": {
  "kernelspec": {
   "display_name": "Python 3.8.16 ('challenge')",
   "language": "python",
   "name": "python3"
  },
  "language_info": {
   "codemirror_mode": {
    "name": "ipython",
    "version": 3
   },
   "file_extension": ".py",
   "mimetype": "text/x-python",
   "name": "python",
   "nbconvert_exporter": "python",
   "pygments_lexer": "ipython3",
   "version": "3.8.16"
  },
  "orig_nbformat": 4,
  "vscode": {
   "interpreter": {
    "hash": "6100d8334917db35c4ec7cf716c3100bfc66eb35e85e153ba7e378d404aaa54d"
   }
  }
 },
 "nbformat": 4,
 "nbformat_minor": 2
}
